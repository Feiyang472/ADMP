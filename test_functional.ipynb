{
 "cells": [
  {
   "cell_type": "code",
   "execution_count": 1,
   "source": [
    "import numpy as np\n",
    "import scipy\n",
    "from python.ADMPForce import ADMPGenerator\n",
    "from scipy.stats import special_ortho_group\n",
    "from python.utils import convert_cart2harm\n",
    "import mpidplugin\n",
    "\n",
    "mScales = np.array([0.0, 0.0, 0.0, 1.0])\n",
    "pScales = np.array([0.0, 0.0, 0.0, 1.0])\n",
    "dScales = np.array([0.0, 0.0, 0.0, 1.0])\n",
    "rc = 8 # in Angstrom\n",
    "ethresh = 1e-4\n",
    "\n",
    "\n",
    "pdb = 'tests/samples/waterdimer_aligned.pdb'\n",
    "xml = 'tests/samples/mpidwater.xml'\n",
    "generator = ADMPGenerator(pdb, xml, rc, ethresh, mScales, pScales, dScales, )\n",
    "# get a random geometry for testing\n",
    "scipy.random.seed(1000)\n",
    "R1 = special_ortho_group.rvs(3)\n",
    "R2 = special_ortho_group.rvs(3)\n",
    "\n",
    "positions = generator.positions\n",
    "positions[0:3] = positions[0:3].dot(R1)\n",
    "positions[3:6] = positions[3:6].dot(R2)\n",
    "positions[3:] += np.array([3.0, 0.0, 0.0])\n",
    "\n",
    "\n",
    "force = generator.create_force()\n",
    "force.update()\n",
    "force.kappa = 0.328532611\n",
    "\n",
    "multipoles_lc = np.concatenate((np.expand_dims(force.mpid_params['charges'], axis=1), force.mpid_params['dipoles'], force.mpid_params['quadrupoles']), axis=1)\n",
    "Q_lh = convert_cart2harm(multipoles_lc, lmax=2)\n",
    "axis_types = force.mpid_params['axis_types']\n",
    "axis_indices = force.mpid_params['axis_indices']\n"
   ],
   "outputs": [],
   "metadata": {}
  },
  {
   "cell_type": "code",
   "execution_count": 2,
   "source": [
    "force.compile_reci_space_energy_and_force()"
   ],
   "outputs": [
    {
     "output_type": "stream",
     "name": "stderr",
     "text": [
      "WARNING:absl:No GPU/TPU found, falling back to CPU. (Set TF_CPP_MIN_LOG_LEVEL=0 and rerun for more info.)\n"
     ]
    }
   ],
   "metadata": {}
  },
  {
   "cell_type": "code",
   "execution_count": 36,
   "source": [
    "ene, f = force.calc_reci_space_energy_and_force()\n",
    "print(ene, '\\n', f)"
   ],
   "outputs": [
    {
     "output_type": "stream",
     "name": "stdout",
     "text": [
      "3.8504010162464084 \n",
      " [[  4.81163492  -2.88011513 -10.71335151]\n",
      " [ -2.12240909   1.67451737   6.10969664]\n",
      " [ -3.08651289   1.45696349   4.54239251]\n",
      " [  4.82683478   1.44850801  -0.18667916]\n",
      " [ -0.66875967  -1.83414292  -1.98458272]\n",
      " [ -3.76073239   0.1343097    2.23245487]]\n"
     ]
    }
   ],
   "metadata": {}
  },
  {
   "cell_type": "code",
   "execution_count": 5,
   "source": [
    "%timeit ene, f = force.calc_reci_space_energy_and_force()"
   ],
   "outputs": [
    {
     "output_type": "stream",
     "name": "stdout",
     "text": [
      "8.75 ms ± 118 µs per loop (mean ± std. dev. of 7 runs, 100 loops each)\n"
     ]
    }
   ],
   "metadata": {}
  },
  {
   "cell_type": "code",
   "execution_count": 37,
   "source": [
    "pme_reci = jit(pme_reciprocal_energy, static_argnums=(4,5,6,7))"
   ],
   "outputs": [],
   "metadata": {}
  },
  {
   "cell_type": "code",
   "execution_count": null,
   "source": [
    "ene0 = pme_reci(positions, force.box,  Q_lh, force.kappa, force.lmax, force.K1, force.K2, force.K3)\n",
    "findiff = np.empty((6, 3))\n",
    "delta = np.zeros((6,3))\n",
    "for i in range(6):\n",
    "    for j in range(3):\n",
    "        delta[i][j] = 1\n",
    "        findiff[i][j] = pme_reci(positions +delta, force.box,  Q_lh, force.kappa, force.lmax, force.K1, force.K2, force.K3)\n",
    "        delta[i][j] = 0\n",
    "print(findiff)"
   ],
   "outputs": [
    {
     "output_type": "stream",
     "name": "stdout",
     "text": [
      "[[3.85040102 3.85040102 3.85040102]\n",
      " [3.85040102 3.85040102 3.85040102]\n",
      " [3.85040102 3.85040102 3.85040102]\n",
      " [3.85040102 3.85040102 3.85040102]\n",
      " [3.85040102 3.85040102 3.85040102]\n",
      " [3.85040102 3.85040102 3.85040102]]\n"
     ]
    }
   ],
   "metadata": {}
  },
  {
   "cell_type": "code",
   "execution_count": 23,
   "source": [
    "print(\"Testing behaviour of the same function, under different jax wrappers\")\n",
    "print(\"====================================================================\")\n",
    "ene1, f = value_and_grad(pme_reciprocal_energy)(positions, force.box,  Q_lh, force.kappa, force.lmax, force.K1, force.K2, force.K3)\n",
    "print(\"value_and_grad:      \", ene1)\n",
    "ene2 = pme_reciprocal_energy(positions, force.box,  Q_lh, force.kappa, force.lmax, force.K1, force.K2, force.K3)\n",
    "print(\"only value:          \", ene2)\n",
    "ene3, f = jit(value_and_grad(pme_reciprocal_energy), static_argnums=(4,5,6,7))(positions, force.box,  Q_lh, force.kappa, force.lmax, force.K1, force.K2, force.K3)\n",
    "print(\"jit, value_and_grad: \", ene3)\n",
    "ene4 = jit(pme_reciprocal_energy, static_argnums=(4,5,6,7))(positions, force.box,  Q_lh, force.kappa, force.lmax, force.K1, force.K2, force.K3)\n",
    "print(\"jit, only value:     \", ene4)"
   ],
   "outputs": [
    {
     "output_type": "stream",
     "name": "stdout",
     "text": [
      "Testing behaviour of the same function, under different jax wrappers\n",
      "====================================================================\n",
      "value_and_grad:       3.8504010162466096\n",
      "only value:           3.850401016246607\n",
      "jit, value_and_grad:  3.8504010162464084\n",
      "jit, only value:      3.8504010162402884\n"
     ]
    }
   ],
   "metadata": {}
  }
 ],
 "metadata": {
  "orig_nbformat": 4,
  "language_info": {
   "name": "python",
   "version": "3.9.6",
   "mimetype": "text/x-python",
   "codemirror_mode": {
    "name": "ipython",
    "version": 3
   },
   "pygments_lexer": "ipython3",
   "nbconvert_exporter": "python",
   "file_extension": ".py"
  },
  "kernelspec": {
   "name": "python3",
   "display_name": "Python 3.9.6 64-bit ('mpid': conda)"
  },
  "interpreter": {
   "hash": "68dd20fd376d19659cce1299928e7dec6f1628c8b11d51a3a8e92f78598a03f1"
  }
 },
 "nbformat": 4,
 "nbformat_minor": 2
}