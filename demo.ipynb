{
 "cells": [
  {
   "cell_type": "code",
   "execution_count": 1,
   "source": [
    "%load_ext snakeviz\n",
    "%config InlineBackend.figure_format = 'svg'\n",
    "%config InlineBackend.figure_format = 'png'"
   ],
   "outputs": [],
   "metadata": {}
  },
  {
   "cell_type": "code",
   "execution_count": 2,
   "source": [
    "from email import generator\n",
    "import numpy as np\n",
    "from python.ADMPForce import ADMPGenerator\n",
    "import scipy\n",
    "from scipy.stats import special_ortho_group\n",
    "from simtk.openmm import *\n",
    "from simtk.openmm.app import *\n",
    "from simtk.unit import *\n",
    "import mpidplugin\n",
    "\n",
    "mScales = np.array([0.0, 0.0, 0.0, 1.0])\n",
    "pScales = np.array([0.0, 0.0, 0.0, 1.0])\n",
    "dScales = np.array([0.0, 0.0, 0.0, 1.0])\n",
    "rc = 8 # in Angstrom\n",
    "ethresh = 1e-4\n",
    "\n",
    "\n",
    "pdb = 'tests/samples/waterdimer_aligned.pdb'\n",
    "xml = 'tests/samples/mpidwater.xml'\n",
    "generator = ADMPGenerator(pdb, xml, rc, ethresh, mScales, pScales, dScales, )\n",
    "# get a random geometry for testing\n",
    "scipy.random.seed(1000)\n",
    "R1 = special_ortho_group.rvs(3)\n",
    "R2 = special_ortho_group.rvs(3)\n",
    "\n",
    "positions = generator.positions\n",
    "positions[0:3] = positions[0:3].dot(R1)\n",
    "positions[3:6] = positions[3:6].dot(R2)\n",
    "positions[3:] += np.array([3.0, 0.0, 0.0])\n",
    "\n",
    "\n",
    "force = generator.create_force()\n",
    "force.update()\n",
    "force.kappa = 0.328532611\n"
   ],
   "outputs": [],
   "metadata": {}
  },
  {
   "cell_type": "code",
   "execution_count": 3,
   "source": [
    "print(positions)"
   ],
   "outputs": [
    {
     "output_type": "stream",
     "name": "stdout",
     "text": [
      "[[ 0.          0.          0.        ]\n",
      " [-0.72004306 -0.01869945  0.63058173]\n",
      " [ 0.68557522  0.50825211  0.43371812]\n",
      " [ 3.          0.          0.        ]\n",
      " [ 3.02161682 -0.52203431 -0.80215827]\n",
      " [ 2.08174622 -0.01347945  0.27032073]]\n"
     ]
    }
   ],
   "metadata": {}
  },
  {
   "cell_type": "code",
   "execution_count": 10,
   "source": [
    "%timeit ene0 = force.calc_reci_space_energy()\n",
    "%timeit force0 = force.calc_reci_space_force()\n",
    "print(force0)"
   ],
   "outputs": [],
   "metadata": {}
  },
  {
   "cell_type": "code",
   "execution_count": 9,
   "source": [
    "from python.pme import pme_reciprocal, pme_reciprocal_force\n",
    "\n",
    "%timeit pme_reciprocal_force(force.positions, force.box, force.Q, force.kappa, force.lmax, force.K1, force.K2, force.K3)"
   ],
   "outputs": [
    {
     "output_type": "stream",
     "name": "stdout",
     "text": [
      "10.5 ms ± 933 µs per loop (mean ± std. dev. of 7 runs, 100 loops each)\n"
     ]
    }
   ],
   "metadata": {}
  },
  {
   "cell_type": "code",
   "execution_count": null,
   "source": [],
   "outputs": [],
   "metadata": {}
  }
 ],
 "metadata": {
  "interpreter": {
   "hash": "68dd20fd376d19659cce1299928e7dec6f1628c8b11d51a3a8e92f78598a03f1"
  },
  "kernelspec": {
   "name": "python3",
   "display_name": "Python 3.9.6 64-bit ('mpid': conda)"
  },
  "language_info": {
   "codemirror_mode": {
    "name": "ipython",
    "version": 3
   },
   "file_extension": ".py",
   "mimetype": "text/x-python",
   "name": "python",
   "nbconvert_exporter": "python",
   "pygments_lexer": "ipython3",
   "version": "3.9.6"
  }
 },
 "nbformat": 4,
 "nbformat_minor": 2
}