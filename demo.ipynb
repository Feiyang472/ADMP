{
 "cells": [
  {
   "cell_type": "code",
   "execution_count": null,
   "source": [],
   "outputs": [],
   "metadata": {}
  },
  {
   "cell_type": "code",
   "execution_count": 1,
   "source": [
    "%load_ext snakeviz\n",
    "%config InlineBackend.figure_format = 'svg'\n",
    "%config InlineBackend.figure_format = 'png'"
   ],
   "outputs": [],
   "metadata": {}
  },
  {
   "cell_type": "code",
   "execution_count": 37,
   "source": [
    "from email import generator\n",
    "import numpy as np\n",
    "from python.ADMPForce import ADMPGenerator\n",
    "import scipy\n",
    "from scipy.stats import special_ortho_group\n",
    "from simtk.openmm import *\n",
    "from simtk.openmm.app import *\n",
    "from simtk.unit import *\n",
    "import mpidplugin\n",
    "\n",
    "mScales = np.array([0.0, 0.0, 0.0, 1.0])\n",
    "pScales = np.array([0.0, 0.0, 0.0, 1.0])\n",
    "dScales = np.array([0.0, 0.0, 0.0, 1.0])\n",
    "rc = 8 # in Angstrom\n",
    "ethresh = 1e-4\n",
    "\n",
    "\n",
    "pdb = 'tests/samples/waterdimer_aligned.pdb'\n",
    "xml = 'tests/samples/mpidwater.xml'\n",
    "generator = ADMPGenerator(pdb, xml, rc, ethresh, mScales, pScales, dScales, )\n",
    "# get a random geometry for testing\n",
    "scipy.random.seed(1000)\n",
    "R1 = special_ortho_group.rvs(3)\n",
    "R2 = special_ortho_group.rvs(3)\n",
    "\n",
    "positions = generator.positions\n",
    "positions[0:3] = positions[0:3].dot(R1)\n",
    "positions[3:6] = positions[3:6].dot(R2)\n",
    "positions[3:] += np.array([3.0, 0.0, 0.0])\n",
    "\n",
    "\n",
    "force = generator.create_force()\n",
    "force.update()\n",
    "force.kappa = 0.328532611\n"
   ],
   "outputs": [],
   "metadata": {}
  },
  {
   "cell_type": "code",
   "execution_count": 16,
   "source": [
    "print(positions)"
   ],
   "outputs": [
    {
     "output_type": "stream",
     "name": "stdout",
     "text": [
      "[[ 0.          0.          0.        ]\n",
      " [-0.72004306 -0.01869945  0.63058173]\n",
      " [ 0.68557522  0.50825211  0.43371812]\n",
      " [ 3.          0.          0.        ]\n",
      " [ 3.02161682 -0.52203431 -0.80215827]\n",
      " [ 2.08174622 -0.01347945  0.27032073]]\n"
     ]
    }
   ],
   "metadata": {}
  },
  {
   "cell_type": "code",
   "execution_count": 40,
   "source": [
    "ene0 = force.calc_reci_space_energy()"
   ],
   "outputs": [],
   "metadata": {}
  },
  {
   "cell_type": "code",
   "execution_count": 41,
   "source": [
    "print(ene0)"
   ],
   "outputs": [
    {
     "output_type": "stream",
     "name": "stdout",
     "text": [
      "3.850401016246608\n"
     ]
    }
   ],
   "metadata": {}
  },
  {
   "cell_type": "code",
   "execution_count": 42,
   "source": [
    "forces = force.calc_reci_space_force()"
   ],
   "outputs": [],
   "metadata": {}
  },
  {
   "cell_type": "code",
   "execution_count": 43,
   "source": [
    "print(forces)"
   ],
   "outputs": [
    {
     "output_type": "stream",
     "name": "stdout",
     "text": [
      "[[  5.58156365  -2.58004665 -10.82644139]\n",
      " [ -2.49424205   1.30562368   5.67417203]\n",
      " [ -3.48460866   1.52578869   5.09100699]\n",
      " [  5.03836956   1.55864688  -0.65421062]\n",
      " [ -0.98473687  -2.01505676  -1.87536137]\n",
      " [ -3.65628997   0.20508466   2.59076499]]\n"
     ]
    }
   ],
   "metadata": {}
  },
  {
   "cell_type": "code",
   "execution_count": null,
   "source": [],
   "outputs": [],
   "metadata": {}
  },
  {
   "cell_type": "code",
   "execution_count": 38,
   "source": [
    "N = np.array([force.K1, force.K2, force.K3])\n",
    "Q = force.Q[:, :(force.lmax+1)**2].reshape(force.Q.shape[0], (force.lmax+1)**2)\n",
    "from python.pme import pme_reciprocal\n",
    "from jax.test_util import check_grads\n",
    "ene0 = pme_reciprocal(force.positions, force.box, Q, force.lmax, force.kappa, N)"
   ],
   "outputs": [],
   "metadata": {}
  },
  {
   "cell_type": "code",
   "execution_count": 39,
   "source": [
    "print(ene0)"
   ],
   "outputs": [
    {
     "output_type": "stream",
     "name": "stdout",
     "text": [
      "3.850401016246608\n"
     ]
    }
   ],
   "metadata": {}
  },
  {
   "cell_type": "code",
   "execution_count": 46,
   "source": [
    "delta = np.zeros((6,3))\n",
    "delta[2,2] = 1e-5\n",
    "\n",
    "print((pme_reciprocal(force.positions+delta, force.box, Q, force.lmax, force.kappa, N) - ene0)/1e-5)"
   ],
   "outputs": [],
   "metadata": {}
  }
 ],
 "metadata": {
  "interpreter": {
   "hash": "68dd20fd376d19659cce1299928e7dec6f1628c8b11d51a3a8e92f78598a03f1"
  },
  "kernelspec": {
   "name": "python3",
   "display_name": "Python 3.9.6 64-bit ('mpid': conda)"
  },
  "language_info": {
   "codemirror_mode": {
    "name": "ipython",
    "version": 3
   },
   "file_extension": ".py",
   "mimetype": "text/x-python",
   "name": "python",
   "nbconvert_exporter": "python",
   "pygments_lexer": "ipython3",
   "version": "3.9.6"
  }
 },
 "nbformat": 4,
 "nbformat_minor": 2
}