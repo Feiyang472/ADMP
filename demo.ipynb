{
 "cells": [
  {
   "cell_type": "code",
   "execution_count": 1,
   "metadata": {},
   "outputs": [],
   "source": [
    "%load_ext snakeviz\n",
    "%config InlineBackend.figure_format = 'svg'\n",
    "%config InlineBackend.figure_format = 'png'"
   ]
  },
  {
   "cell_type": "code",
   "execution_count": 2,
   "metadata": {},
   "outputs": [],
   "source": [
    "from email import generator\n",
    "import numpy as np\n",
    "from python.ADMPForce import ADMPGenerator\n",
    "import scipy\n",
    "from scipy.stats import special_ortho_group\n",
    "from simtk.openmm import *\n",
    "from simtk.openmm.app import *\n",
    "from simtk.unit import *\n",
    "import mpidplugin\n",
    "\n",
    "mScales = np.array([0.0, 0.0, 0.0, 1.0])\n",
    "pScales = np.array([0.0, 0.0, 0.0, 1.0])\n",
    "dScales = np.array([0.0, 0.0, 0.0, 1.0])\n",
    "rc = 8 # in Angstrom\n",
    "ethresh = 1e-4\n",
    "\n",
    "\n",
    "pdb = 'tests/samples/waterdimer_aligned.pdb'\n",
    "xml = 'tests/samples/mpidwater.xml'\n",
    "generator = ADMPGenerator(pdb, xml, rc, ethresh, mScales, pScales, dScales, )\n",
    "# get a random geometry for testing\n",
    "scipy.random.seed(1000)\n",
    "R1 = special_ortho_group.rvs(3)\n",
    "R2 = special_ortho_group.rvs(3)\n",
    "\n",
    "positions = generator.positions\n",
    "positions[0:3] = positions[0:3].dot(R1)\n",
    "positions[3:6] = positions[3:6].dot(R2)\n",
    "positions[3:] += np.array([3.0, 0.0, 0.0])\n",
    "\n",
    "\n",
    "force = generator.create_force()\n",
    "force.update()\n",
    "force.kappa = 0.328532611\n"
   ]
  },
  {
   "cell_type": "code",
   "execution_count": 3,
   "metadata": {},
   "outputs": [
    {
     "name": "stdout",
     "output_type": "stream",
     "text": [
      "[[ 0.          0.          0.        ]\n",
      " [-0.72004306 -0.01869945  0.63058173]\n",
      " [ 0.68557522  0.50825211  0.43371812]\n",
      " [ 3.          0.          0.        ]\n",
      " [ 3.02161682 -0.52203431 -0.80215827]\n",
      " [ 2.08174622 -0.01347945  0.27032073]]\n"
     ]
    }
   ],
   "source": [
    "print(positions)"
   ]
  },
  {
   "cell_type": "code",
   "execution_count": 4,
   "metadata": {},
   "outputs": [
    {
     "name": "stderr",
     "output_type": "stream",
     "text": [
      "WARNING:absl:No GPU/TPU found, falling back to CPU. (Set TF_CPP_MIN_LOG_LEVEL=0 and rerun for more info.)\n"
     ]
    },
    {
     "name": "stdout",
     "output_type": "stream",
     "text": [
      "7.08 ms ± 470 µs per loop (mean ± std. dev. of 7 runs, 1 loop each)\n",
      "10.4 ms ± 510 µs per loop (mean ± std. dev. of 7 runs, 1 loop each)\n",
      "[[  5.58156365  -2.58004665 -10.82644139]\n",
      " [ -2.49424205   1.30562368   5.67417203]\n",
      " [ -3.48460866   1.52578869   5.09100699]\n",
      " [  5.03836956   1.55864688  -0.65421062]\n",
      " [ -0.98473687  -2.01505676  -1.87536137]\n",
      " [ -3.65628997   0.20508466   2.59076499]]\n"
     ]
    }
   ],
   "source": [
    "%timeit ene0 = force.calc_reci_space_energy()\n",
    "%timeit force0 = force.calc_reci_space_force()\n",
    "force0 = force.calc_reci_space_force()\n",
    "print(force0)"
   ]
  },
  {
   "cell_type": "code",
   "execution_count": 12,
   "metadata": {},
   "outputs": [
    {
     "name": "stdout",
     "output_type": "stream",
     "text": [
      "85.4 ms ± 21 ms per loop (mean ± std. dev. of 7 runs, 1 loop each)\n"
     ]
    }
   ],
   "source": [
    "from python.pme import pme_reciprocal, pme_reciprocal_force\n",
    "\n",
    "%timeit pme_reciprocal(np.repeat(force.positions, 1000 //6, axis = 0), force.box, np.repeat(force.Q, 1000 //6, axis = 0), force.kappa, force.lmax, 30, 30, 30)"
   ]
  }
 ],
 "metadata": {
  "interpreter": {
   "hash": "68dd20fd376d19659cce1299928e7dec6f1628c8b11d51a3a8e92f78598a03f1"
  },
  "kernelspec": {
   "display_name": "Python 3",
   "language": "python",
   "name": "python3"
  },
  "language_info": {
   "codemirror_mode": {
    "name": "ipython",
    "version": 3
   },
   "file_extension": ".py",
   "mimetype": "text/x-python",
   "name": "python",
   "nbconvert_exporter": "python",
   "pygments_lexer": "ipython3",
   "version": "3.9.6"
  }
 },
 "nbformat": 4,
 "nbformat_minor": 2
}
